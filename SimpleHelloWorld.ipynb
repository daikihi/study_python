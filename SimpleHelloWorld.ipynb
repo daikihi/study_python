{
 "cells": [
  {
   "cell_type": "code",
   "execution_count": 1,
   "metadata": {},
   "outputs": [
    {
     "name": "stdout",
     "output_type": "stream",
     "text": [
      "hello \n"
     ]
    }
   ],
   "source": [
    "print('hello')"
   ]
  },
  {
   "cell_type": "markdown",
   "metadata": {},
   "source": [
    "# 上を実行する場合\n",
    "\n",
    "基本的にはJupiterを使う\n",
    "\n",
    "VSCode with Jupiter の場合、jpynb ファイルをpy ファイルに変換する方法\n",
    "\n",
    "VSCode の上に検索ボックスがある。そこで、\n",
    "\n",
    "```\n",
    ">Jupter: Python スクリプトへエクスポート\n",
    "```\n",
    "\n",
    "を選んで実行する。 > で始めると検索ではなくコマンドの実行になる。\n",
    "\n"
   ]
  }
 ],
 "metadata": {
  "kernelspec": {
   "display_name": "Python 3",
   "language": "python",
   "name": "python3"
  },
  "language_info": {
   "codemirror_mode": {
    "name": "ipython",
    "version": 3
   },
   "file_extension": ".py",
   "mimetype": "text/x-python",
   "name": "python",
   "nbconvert_exporter": "python",
   "pygments_lexer": "ipython3",
   "version": "3.9.6"
  }
 },
 "nbformat": 4,
 "nbformat_minor": 2
}
